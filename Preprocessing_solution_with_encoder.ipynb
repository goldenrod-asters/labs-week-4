{
 "cells": [
  {
   "cell_type": "markdown",
   "id": "caa76772",
   "metadata": {},
   "source": [
    "## Import libraries and tips dataset"
   ]
  },
  {
   "cell_type": "code",
   "execution_count": 2,
   "id": "1a4f84fb",
   "metadata": {},
   "outputs": [],
   "source": [
    "import pandas as pd \n",
    "import seaborn as sns"
   ]
  },
  {
   "cell_type": "code",
   "execution_count": 3,
   "id": "63094eb5",
   "metadata": {},
   "outputs": [],
   "source": [
    "tips_df = sns.load_dataset('tips')"
   ]
  },
  {
   "cell_type": "code",
   "execution_count": 4,
   "id": "e4a26f78",
   "metadata": {},
   "outputs": [
    {
     "data": {
      "text/plain": [
       "<Axes: >"
      ]
     },
     "execution_count": 4,
     "metadata": {},
     "output_type": "execute_result"
    },
    {
     "data": {
      "image/png": "[encoded data removed]",
      "text/plain": [
       "<Figure size 640x480 with 1 Axes>"
      ]
     },
     "metadata": {},
     "output_type": "display_data"
    }
   ],
   "source": [
    "tips_df[\"total_bill\"].hist()"
   ]
  },
  {
   "cell_type": "code",
   "execution_count": 5,
   "id": "2b6b4a95",
   "metadata": {},
   "outputs": [],
   "source": [
    "from sklearn.preprocessing import MinMaxScaler, StandardScaler, PowerTransformer"
   ]
  },
  {
   "cell_type": "markdown",
   "id": "5dd86b2f",
   "metadata": {},
   "source": [
    "### Apllying MinMaxScaler"
   ]
  },
  {
   "cell_type": "code",
   "execution_count": null,
   "id": "08c046d9",
   "metadata": {},
   "outputs": [],
   "source": [
    "scaler = MinMaxScaler()"
   ]
  },
  {
   "cell_type": "code",
   "execution_count": null,
   "id": "50ae151e",
   "metadata": {},
   "outputs": [],
   "source": [
    "tips_df[\"total_bill\"]"
   ]
  },
  {
   "cell_type": "code",
   "execution_count": null,
   "id": "3892d73e",
   "metadata": {},
   "outputs": [],
   "source": [
    "tips_df[\"bill_minmax\"] = scaler.fit_transform(tips_df[[\"total_bill\"]])\n"
   ]
  },
  {
   "cell_type": "code",
   "execution_count": null,
   "id": "741d98d4",
   "metadata": {},
   "outputs": [],
   "source": [
    "tips_df[\"total_bill\"].hist()"
   ]
  },
  {
   "cell_type": "code",
   "execution_count": null,
   "id": "10915260",
   "metadata": {},
   "outputs": [],
   "source": [
    "tips_df[\"bill_minmax\"].hist()"
   ]
  },
  {
   "cell_type": "markdown",
   "id": "3a4a1c1e",
   "metadata": {},
   "source": [
    "### Applying StandardScaler"
   ]
  },
  {
   "cell_type": "code",
   "execution_count": null,
   "id": "a3407abc",
   "metadata": {},
   "outputs": [],
   "source": [
    "scaler = StandardScaler()"
   ]
  },
  {
   "cell_type": "code",
   "execution_count": null,
   "id": "8fb183db",
   "metadata": {},
   "outputs": [],
   "source": [
    "scaler.fit_transform(tips_df[[\"total_bill\"]])"
   ]
  },
  {
   "cell_type": "markdown",
   "id": "7f04fbf5",
   "metadata": {},
   "source": [
    "### Applying PowerTransformer"
   ]
  },
  {
   "cell_type": "code",
   "execution_count": null,
   "id": "60b4e26f",
   "metadata": {},
   "outputs": [],
   "source": [
    "pt = PowerTransformer()"
   ]
  },
  {
   "cell_type": "code",
   "execution_count": null,
   "id": "a6372e73",
   "metadata": {},
   "outputs": [],
   "source": [
    "tips_df.tip.hist()"
   ]
  },
  {
   "cell_type": "code",
   "execution_count": null,
   "id": "5f5d77c9",
   "metadata": {},
   "outputs": [],
   "source": [
    "tips_df[\"tip_pt\"] = pt.fit_transform(tips_df[[\"tip\"]])"
   ]
  },
  {
   "cell_type": "code",
   "execution_count": null,
   "id": "6e999312",
   "metadata": {},
   "outputs": [],
   "source": [
    "tips_df[\"tip_pt\"].hist()"
   ]
  },
  {
   "cell_type": "markdown",
   "id": "dd0e150a",
   "metadata": {},
   "source": [
    "### Encoding ordinal categorical data"
   ]
  },
  {
   "cell_type": "code",
   "execution_count": 6,
   "id": "a0215086",
   "metadata": {},
   "outputs": [],
   "source": [
    "categoricals_df = tips_df.select_dtypes(include='category')\n",
    "numericals_df = tips_df.select_dtypes(include='number')"
   ]
  },
  {
   "cell_type": "code",
   "execution_count": null,
   "id": "cb6a3067",
   "metadata": {},
   "outputs": [],
   "source": [
    "categoricals_df.time.unique()"
   ]
  },
  {
   "cell_type": "code",
   "execution_count": null,
   "id": "ef064dcb",
   "metadata": {
    "scrolled": true
   },
   "outputs": [],
   "source": [
    "nominals_df = pd.get_dummies(categoricals_df[[\"sex\",\"smoker\"]], dtype=int)"
   ]
  },
  {
   "cell_type": "code",
   "execution_count": null,
   "id": "6f17d09e",
   "metadata": {},
   "outputs": [],
   "source": [
    "categoricals_df[[\"day\",\"time\"]]"
   ]
  },
  {
   "cell_type": "code",
   "execution_count": null,
   "id": "90281350",
   "metadata": {},
   "outputs": [],
   "source": [
    "categoricals_df[\"time\"].map({\"Dinner\":1,\"Lunch\":0})"
   ]
  },
  {
   "cell_type": "code",
   "execution_count": 7,
   "id": "10893e79",
   "metadata": {},
   "outputs": [],
   "source": [
    "from sklearn.preprocessing import OrdinalEncoder"
   ]
  },
  {
   "cell_type": "code",
   "execution_count": null,
   "id": "76f6b2db",
   "metadata": {},
   "outputs": [],
   "source": [
    "tips_df.day.unique()"
   ]
  },
  {
   "cell_type": "code",
   "execution_count": 1,
   "id": "5230885a",
   "metadata": {},
   "outputs": [
    {
     "ename": "NameError",
     "evalue": "name 'OrdinalEncoder' is not defined",
     "output_type": "error",
     "traceback": [
      "\u001b[0;31m---------------------------------------------------------------------------\u001b[0m",
      "\u001b[0;31mNameError\u001b[0m                                 Traceback (most recent call last)",
      "Cell \u001b[0;32mIn[1], line 1\u001b[0m\n\u001b[0;32m----> 1\u001b[0m enc \u001b[38;5;241m=\u001b[39m OrdinalEncoder(categories\u001b[38;5;241m=\u001b[39m[[\u001b[38;5;124m\"\u001b[39m\u001b[38;5;124mThur\u001b[39m\u001b[38;5;124m\"\u001b[39m,\u001b[38;5;124m\"\u001b[39m\u001b[38;5;124mFri\u001b[39m\u001b[38;5;124m\"\u001b[39m,\u001b[38;5;124m\"\u001b[39m\u001b[38;5;124mSat\u001b[39m\u001b[38;5;124m\"\u001b[39m,\u001b[38;5;124m\"\u001b[39m\u001b[38;5;124mSun\u001b[39m\u001b[38;5;124m\"\u001b[39m]])\n",
      "\u001b[0;31mNameError\u001b[0m: name 'OrdinalEncoder' is not defined"
     ]
    }
   ],
   "source": [
    "enc = OrdinalEncoder(categories=[[\"Thur\",\"Fri\",\"Sat\",\"Sun\"]])"
   ]
  },
  {
   "cell_type": "code",
   "execution_count": null,
   "id": "ea6e2c68",
   "metadata": {},
   "outputs": [],
   "source": [
    "enc.fit_transform(tips_df[[\"day\"]])"
   ]
  },
  {
   "cell_type": "markdown",
   "id": "3902e236",
   "metadata": {},
   "source": [
    "### Encoding nominal categorical data"
   ]
  },
  {
   "cell_type": "code",
   "execution_count": null,
   "id": "f97536e2",
   "metadata": {},
   "outputs": [],
   "source": [
    "from sklearn.preprocessing import OneHotEncoder"
   ]
  },
  {
   "cell_type": "code",
   "execution_count": null,
   "id": "96ffd401",
   "metadata": {},
   "outputs": [],
   "source": [
    "pd.get_dummies()"
   ]
  },
  {
   "cell_type": "code",
   "execution_count": null,
   "id": "8b8400b6",
   "metadata": {},
   "outputs": [],
   "source": []
  }
 ],
 "metadata": {
  "kernelspec": {
   "display_name": "Python 3 (ipykernel)",
   "language": "python",
   "name": "python3"
  },
  "language_info": {
   "codemirror_mode": {
    "name": "ipython",
    "version": 3
   },
   "file_extension": ".py",
   "mimetype": "text/x-python",
   "name": "python",
   "nbconvert_exporter": "python",
   "pygments_lexer": "ipython3",
   "version": "3.11.5"
  }
 },
 "nbformat": 4,
 "nbformat_minor": 5
}
